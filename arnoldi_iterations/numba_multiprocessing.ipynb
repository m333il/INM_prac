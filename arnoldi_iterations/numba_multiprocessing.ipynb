{
 "cells": [
  {
   "cell_type": "code",
   "execution_count": 1,
   "metadata": {},
   "outputs": [],
   "source": [
    "import numpy as np\n",
    "import numba\n",
    "from numba import prange"
   ]
  },
  {
   "cell_type": "code",
   "execution_count": 2,
   "metadata": {},
   "outputs": [],
   "source": [
    "def arnoldi_iteration(A, b, n, verbose, matvec):\n",
    "    h = np.zeros((n + 1, n))\n",
    "    Q = np.zeros((n + 1, A.shape[0]))\n",
    "\n",
    "    Q[0] = b / np.linalg.norm(b)\n",
    "    for k in range(1, n + 1):\n",
    "        v = matvec(A, Q[k - 1])\n",
    "        for j in range(k):\n",
    "            h[j, k - 1] = np.dot(Q[j], v)\n",
    "            v -= h[j, k - 1] * Q[j]\n",
    "        h[k, k - 1] = np.linalg.norm(v)\n",
    "        if verbose:\n",
    "            print(h[k, k - 1])\n",
    "        Q[k] = v / h[k, k - 1]\n",
    "    return h"
   ]
  },
  {
   "cell_type": "code",
   "execution_count": 3,
   "metadata": {},
   "outputs": [],
   "source": [
    "def matvec_simple(A, b):\n",
    "    n = b.size\n",
    "    z = np.zeros(n)\n",
    "    for i in range(n):\n",
    "        for j in range(n):\n",
    "            z[i] += A[i][j] * b[j]\n",
    "    return z\n",
    "\n",
    "@numba.jit(nopython=True)\n",
    "def matvec_numba(A, b):\n",
    "    n = b.size\n",
    "    z = np.zeros(n)\n",
    "    for i in range(n):\n",
    "        for j in range(n):\n",
    "            z[i] += A[i][j] * b[j]\n",
    "    return z\n",
    "\n",
    "@numba.jit(nopython=True, parallel=True)\n",
    "def matvec_numba_parallel(A, b):\n",
    "    n = b.size\n",
    "    z = np.zeros(n)\n",
    "    for i in prange(n):\n",
    "        for j in range(n):\n",
    "            z[i] += A[i][j] * b[j]\n",
    "    return z"
   ]
  },
  {
   "cell_type": "code",
   "execution_count": 4,
   "metadata": {},
   "outputs": [
    {
     "name": "stdout",
     "output_type": "stream",
     "text": [
      "[8. 8.]\n",
      "[8. 8.]\n"
     ]
    }
   ],
   "source": [
    "A_test = np.array([[2.0, 2.0], [2.0, 2.0]])\n",
    "b_test = np.array([2.0, 2.0])\n",
    "print(matvec_numba(A_test, b_test))\n",
    "print(matvec_numba_parallel(A_test, b_test))"
   ]
  },
  {
   "cell_type": "code",
   "execution_count": 5,
   "metadata": {},
   "outputs": [],
   "source": [
    "n = 5000\n",
    "k = 4"
   ]
  },
  {
   "cell_type": "code",
   "execution_count": 6,
   "metadata": {},
   "outputs": [],
   "source": [
    "np.random.seed(seed=1)\n",
    "A = np.random.rand(n, n)\n",
    "b = np.random.rand(n)"
   ]
  },
  {
   "attachments": {},
   "cell_type": "markdown",
   "metadata": {},
   "source": [
    "### Simple matvec"
   ]
  },
  {
   "cell_type": "code",
   "execution_count": 7,
   "metadata": {},
   "outputs": [
    {
     "name": "stdout",
     "output_type": "stream",
     "text": [
      "1083.1252052635512\n",
      "23.67790056752565\n",
      "20.47699083489922\n",
      "20.650615698615393\n",
      "CPU times: user 48 s, sys: 7.55 ms, total: 48 s\n",
      "Wall time: 48 s\n"
     ]
    }
   ],
   "source": [
    "%%time\n",
    "h = arnoldi_iteration(A, b, k, True, matvec_simple)"
   ]
  },
  {
   "attachments": {},
   "cell_type": "markdown",
   "metadata": {},
   "source": [
    "### Simple numba matvec"
   ]
  },
  {
   "cell_type": "code",
   "execution_count": 8,
   "metadata": {},
   "outputs": [
    {
     "name": "stdout",
     "output_type": "stream",
     "text": [
      "1083.1252052635512\n",
      "23.67790056752565\n",
      "20.47699083489922\n",
      "20.650615698615393\n",
      "CPU times: user 166 ms, sys: 49 µs, total: 166 ms\n",
      "Wall time: 168 ms\n"
     ]
    }
   ],
   "source": [
    "%%time\n",
    "h = arnoldi_iteration(A, b, k, True, matvec_numba)"
   ]
  },
  {
   "attachments": {},
   "cell_type": "markdown",
   "metadata": {},
   "source": [
    "### Paralleled numba matvec"
   ]
  },
  {
   "cell_type": "code",
   "execution_count": 9,
   "metadata": {},
   "outputs": [],
   "source": [
    "numba.set_num_threads(4)"
   ]
  },
  {
   "cell_type": "code",
   "execution_count": 10,
   "metadata": {},
   "outputs": [
    {
     "name": "stdout",
     "output_type": "stream",
     "text": [
      "1083.1252052635512\n",
      "23.67790056752565\n",
      "20.47699083489922\n",
      "20.650615698615393\n",
      "CPU times: user 245 ms, sys: 3.94 ms, total: 249 ms\n",
      "Wall time: 65.1 ms\n"
     ]
    }
   ],
   "source": [
    "%%time\n",
    "h = arnoldi_iteration(A, b, k, True, matvec_numba_parallel)"
   ]
  },
  {
   "attachments": {},
   "cell_type": "markdown",
   "metadata": {},
   "source": [
    "### Multiprocessing"
   ]
  },
  {
   "cell_type": "code",
   "execution_count": 11,
   "metadata": {},
   "outputs": [],
   "source": [
    "from multiprocessing import Process, Array, Barrier, Queue\n",
    "import ctypes"
   ]
  },
  {
   "cell_type": "code",
   "execution_count": 12,
   "metadata": {},
   "outputs": [],
   "source": [
    "def worker(A, x, res, n,  l, r, task_queue, feedback_queue, stop):\n",
    "    res = np.frombuffer(res, dtype=np.float64)\n",
    "    x = np.frombuffer(x, dtype=np.float64)\n",
    "    work = 1\n",
    "    end = 2\n",
    "    while True:\n",
    "        task = task_queue.get() \n",
    "        if (task == end):\n",
    "            break\n",
    "        res[l : r] = 0.0\n",
    "        for i in range(l, r):\n",
    "            for j in range(n):\n",
    "                res[i] += A[i][j] * x[j]\n",
    "        feedback_queue.put(1)\n",
    "        stop.wait() "
   ]
  },
  {
   "cell_type": "code",
   "execution_count": 13,
   "metadata": {},
   "outputs": [],
   "source": [
    "def arnoldi_iteration_multiprocessing(A, b, n, verbose, num_proc):\n",
    "    h = np.zeros((n + 1, n))\n",
    "    Q = np.zeros((n + 1, A.shape[0]))\n",
    "\n",
    "    block_size = A.shape[0] // num_proc\n",
    "    positions = [0 for i in range(num_proc + 1)]\n",
    "    for i in range(num_proc):\n",
    "        curr_amount = block_size\n",
    "        if i < A.shape[0] % num_proc:\n",
    "            curr_amount += 1\n",
    "        positions[i + 1] = positions[i] + curr_amount\n",
    "\n",
    "    work = 1\n",
    "    end = 2\n",
    "\n",
    "    task_queue = Queue()\n",
    "    feedback_queue = Queue()\n",
    "    stop = Barrier(num_proc)\n",
    "\n",
    "    # array for res\n",
    "    v_shared = Array(ctypes.c_double, A.shape[0], lock=False)\n",
    "    v = np.frombuffer(v_shared, dtype=np.float64)\n",
    "    \n",
    "    # array for rhs\n",
    "    Qj_shared = Array(ctypes.c_double, A.shape[0], lock=False)\n",
    "    Qj = np.frombuffer(Qj_shared, dtype=np.float64)\n",
    "\n",
    "    processes = []\n",
    "    for i in range(num_proc):\n",
    "        left_ind = positions[i]\n",
    "        right_ind = positions[i + 1]\n",
    "        processes.append(Process(target=worker, args=(A, Qj_shared, v_shared, A.shape[0], left_ind, right_ind, task_queue, feedback_queue, stop)))\n",
    "        processes[i].start()\n",
    "\n",
    "    def matvec(arr):\n",
    "        np.copyto(Qj, arr)\n",
    "        for i in range(num_proc):\n",
    "            task_queue.put(work)\n",
    "        for i in range(num_proc):\n",
    "            feedback_queue.get()\n",
    "\n",
    "    Q[0] = b / np.linalg.norm(b)\n",
    "\n",
    "    for k in range(1, n + 1):\n",
    "        matvec(Q[k - 1])\n",
    "        for j in range(k):\n",
    "            h[j, k - 1] = np.dot(Q[j], v)\n",
    "            v -= h[j, k - 1] * Q[j]\n",
    "        h[k, k - 1] = np.linalg.norm(v)\n",
    "        if verbose:\n",
    "            print(h[k, k - 1])\n",
    "        Q[k] = v / h[k, k - 1]\n",
    "    \n",
    "    def end_processes():\n",
    "        for i in range(num_proc):\n",
    "            task_queue.put(end)\n",
    "        for process in processes:\n",
    "            process.join()\n",
    "    \n",
    "    end_processes()\n",
    "\n",
    "    return h"
   ]
  },
  {
   "cell_type": "code",
   "execution_count": 14,
   "metadata": {},
   "outputs": [
    {
     "name": "stdout",
     "output_type": "stream",
     "text": [
      "1083.1252052635512\n",
      "23.67790056752565\n",
      "20.47699083489922\n",
      "20.650615698615393\n",
      "CPU times: user 6.69 ms, sys: 39.7 ms, total: 46.4 ms\n",
      "Wall time: 18.6 s\n"
     ]
    }
   ],
   "source": [
    "%%time\n",
    "h = arnoldi_iteration_multiprocessing(A, b, k, True, 4)"
   ]
  },
  {
   "attachments": {},
   "cell_type": "markdown",
   "metadata": {},
   "source": [
    "### Results"
   ]
  },
  {
   "cell_type": "code",
   "execution_count": 15,
   "metadata": {},
   "outputs": [
    {
     "name": "stdout",
     "output_type": "stream",
     "text": [
      "100\n",
      "366\n",
      "633\n",
      "900\n",
      "1166\n",
      "1433\n",
      "1700\n",
      "1966\n",
      "2233\n",
      "2500\n"
     ]
    }
   ],
   "source": [
    "times_simple = []\n",
    "for size in np.linspace(100, 2500, 10):\n",
    "    n = int(size)\n",
    "    print(n)\n",
    "    A = np.random.rand(n, n)\n",
    "    b = np.random.rand(n)\n",
    "    times = %timeit -o -n 1 -r 1 -q arnoldi_iteration(A, b, 3, False, matvec_simple)\n",
    "    times_simple.append(times.average)"
   ]
  },
  {
   "cell_type": "code",
   "execution_count": 16,
   "metadata": {},
   "outputs": [
    {
     "name": "stdout",
     "output_type": "stream",
     "text": [
      "100\n",
      "644\n",
      "1188\n",
      "1733\n",
      "2277\n",
      "2822\n",
      "3366\n",
      "3911\n",
      "4455\n",
      "5000\n"
     ]
    }
   ],
   "source": [
    "times_numba_simple = []\n",
    "for size in np.linspace(100, 5000, 10):\n",
    "    n = int(size)\n",
    "    print(n)\n",
    "    A = np.random.rand(n, n)\n",
    "    b = np.random.rand(n)\n",
    "    times = %timeit -o -n 5 -r 10 -q arnoldi_iteration(A, b, 3, False, matvec_numba)\n",
    "    times_numba_simple.append(times.average)"
   ]
  },
  {
   "cell_type": "code",
   "execution_count": 17,
   "metadata": {},
   "outputs": [
    {
     "name": "stdout",
     "output_type": "stream",
     "text": [
      "1000\n",
      "2555\n",
      "4111\n",
      "5666\n",
      "7222\n",
      "8777\n",
      "10333\n",
      "11888\n",
      "13444\n",
      "15000\n"
     ]
    }
   ],
   "source": [
    "times_numba_parallel = []\n",
    "for size in np.linspace(1000, 15000, 10):\n",
    "    n = int(size)\n",
    "    print(n)\n",
    "    A = np.random.rand(n, n)\n",
    "    b = np.random.rand(n)\n",
    "    for threads in range(1, 9):\n",
    "        numba.set_num_threads(threads)\n",
    "        times = %timeit -o -n 1 -r 5 -q arnoldi_iteration(A, b, 3, False, matvec_numba)\n",
    "        times_numba_parallel.append(times.average)"
   ]
  },
  {
   "cell_type": "code",
   "execution_count": 18,
   "metadata": {},
   "outputs": [
    {
     "name": "stdout",
     "output_type": "stream",
     "text": [
      "1000\n",
      "1\n",
      "1.48 s ± 0 ns per loop (mean ± std. dev. of 1 run, 1 loop each)\n",
      "1.48 s ± 0 ns per loop (mean ± std. dev. of 1 run, 1 loop each)\n",
      "1.4756701090000206\n",
      "2\n",
      "764 ms ± 0 ns per loop (mean ± std. dev. of 1 run, 1 loop each)\n",
      "764 ms ± 0 ns per loop (mean ± std. dev. of 1 run, 1 loop each)\n",
      "0.7636390920001759\n",
      "3\n",
      "624 ms ± 0 ns per loop (mean ± std. dev. of 1 run, 1 loop each)\n",
      "624 ms ± 0 ns per loop (mean ± std. dev. of 1 run, 1 loop each)\n",
      "0.6236950450002041\n",
      "4\n",
      "691 ms ± 0 ns per loop (mean ± std. dev. of 1 run, 1 loop each)\n",
      "691 ms ± 0 ns per loop (mean ± std. dev. of 1 run, 1 loop each)\n",
      "0.691175949999888\n",
      "5\n",
      "664 ms ± 0 ns per loop (mean ± std. dev. of 1 run, 1 loop each)\n",
      "664 ms ± 0 ns per loop (mean ± std. dev. of 1 run, 1 loop each)\n",
      "0.6638222540000243\n",
      "6\n",
      "681 ms ± 0 ns per loop (mean ± std. dev. of 1 run, 1 loop each)\n",
      "681 ms ± 0 ns per loop (mean ± std. dev. of 1 run, 1 loop each)\n",
      "0.680741825000041\n",
      "2000\n",
      "1\n",
      "5.45 s ± 0 ns per loop (mean ± std. dev. of 1 run, 1 loop each)\n",
      "5.45 s ± 0 ns per loop (mean ± std. dev. of 1 run, 1 loop each)\n",
      "5.452280715999677\n",
      "2\n",
      "2.9 s ± 0 ns per loop (mean ± std. dev. of 1 run, 1 loop each)\n",
      "2.9 s ± 0 ns per loop (mean ± std. dev. of 1 run, 1 loop each)\n",
      "2.9046871069999725\n",
      "3\n",
      "2.46 s ± 0 ns per loop (mean ± std. dev. of 1 run, 1 loop each)\n",
      "2.46 s ± 0 ns per loop (mean ± std. dev. of 1 run, 1 loop each)\n",
      "2.4614077229998657\n",
      "4\n",
      "2.18 s ± 0 ns per loop (mean ± std. dev. of 1 run, 1 loop each)\n",
      "2.18 s ± 0 ns per loop (mean ± std. dev. of 1 run, 1 loop each)\n",
      "2.1794536600000356\n",
      "5\n",
      "2.42 s ± 0 ns per loop (mean ± std. dev. of 1 run, 1 loop each)\n",
      "2.42 s ± 0 ns per loop (mean ± std. dev. of 1 run, 1 loop each)\n",
      "2.421565396999995\n",
      "6\n",
      "2.48 s ± 0 ns per loop (mean ± std. dev. of 1 run, 1 loop each)\n",
      "2.48 s ± 0 ns per loop (mean ± std. dev. of 1 run, 1 loop each)\n",
      "2.4774439669999992\n",
      "3000\n",
      "1\n",
      "12.5 s ± 0 ns per loop (mean ± std. dev. of 1 run, 1 loop each)\n",
      "12.5 s ± 0 ns per loop (mean ± std. dev. of 1 run, 1 loop each)\n",
      "12.493997834999846\n",
      "2\n",
      "6.44 s ± 0 ns per loop (mean ± std. dev. of 1 run, 1 loop each)\n",
      "6.44 s ± 0 ns per loop (mean ± std. dev. of 1 run, 1 loop each)\n",
      "6.444674219000262\n",
      "3\n",
      "5.46 s ± 0 ns per loop (mean ± std. dev. of 1 run, 1 loop each)\n",
      "5.46 s ± 0 ns per loop (mean ± std. dev. of 1 run, 1 loop each)\n",
      "5.458600209999986\n",
      "4\n",
      "4.75 s ± 0 ns per loop (mean ± std. dev. of 1 run, 1 loop each)\n",
      "4.75 s ± 0 ns per loop (mean ± std. dev. of 1 run, 1 loop each)\n",
      "4.752280707999944\n",
      "5\n",
      "5.41 s ± 0 ns per loop (mean ± std. dev. of 1 run, 1 loop each)\n",
      "5.41 s ± 0 ns per loop (mean ± std. dev. of 1 run, 1 loop each)\n",
      "5.410766315000274\n",
      "6\n",
      "5.17 s ± 0 ns per loop (mean ± std. dev. of 1 run, 1 loop each)\n",
      "5.17 s ± 0 ns per loop (mean ± std. dev. of 1 run, 1 loop each)\n",
      "5.166416791999836\n",
      "4000\n",
      "1\n",
      "21.8 s ± 0 ns per loop (mean ± std. dev. of 1 run, 1 loop each)\n",
      "21.8 s ± 0 ns per loop (mean ± std. dev. of 1 run, 1 loop each)\n",
      "21.804606697000054\n",
      "2\n",
      "11.7 s ± 0 ns per loop (mean ± std. dev. of 1 run, 1 loop each)\n",
      "11.7 s ± 0 ns per loop (mean ± std. dev. of 1 run, 1 loop each)\n",
      "11.662993436999841\n",
      "3\n",
      "9.64 s ± 0 ns per loop (mean ± std. dev. of 1 run, 1 loop each)\n",
      "9.64 s ± 0 ns per loop (mean ± std. dev. of 1 run, 1 loop each)\n",
      "9.641110982999635\n",
      "4\n",
      "8.72 s ± 0 ns per loop (mean ± std. dev. of 1 run, 1 loop each)\n",
      "8.72 s ± 0 ns per loop (mean ± std. dev. of 1 run, 1 loop each)\n",
      "8.715759454999898\n",
      "5\n",
      "9.37 s ± 0 ns per loop (mean ± std. dev. of 1 run, 1 loop each)\n",
      "9.37 s ± 0 ns per loop (mean ± std. dev. of 1 run, 1 loop each)\n",
      "9.37159543000007\n",
      "6\n",
      "9.18 s ± 0 ns per loop (mean ± std. dev. of 1 run, 1 loop each)\n",
      "9.18 s ± 0 ns per loop (mean ± std. dev. of 1 run, 1 loop each)\n",
      "9.179495512000358\n",
      "5000\n",
      "1\n",
      "38.4 s ± 0 ns per loop (mean ± std. dev. of 1 run, 1 loop each)\n",
      "38.4 s ± 0 ns per loop (mean ± std. dev. of 1 run, 1 loop each)\n",
      "38.43692183800022\n",
      "2\n",
      "18.6 s ± 0 ns per loop (mean ± std. dev. of 1 run, 1 loop each)\n",
      "18.6 s ± 0 ns per loop (mean ± std. dev. of 1 run, 1 loop each)\n",
      "18.613091464999798\n",
      "3\n",
      "15.3 s ± 0 ns per loop (mean ± std. dev. of 1 run, 1 loop each)\n",
      "15.3 s ± 0 ns per loop (mean ± std. dev. of 1 run, 1 loop each)\n",
      "15.250014443000055\n",
      "4\n",
      "13.4 s ± 0 ns per loop (mean ± std. dev. of 1 run, 1 loop each)\n",
      "13.4 s ± 0 ns per loop (mean ± std. dev. of 1 run, 1 loop each)\n",
      "13.365524966000066\n",
      "5\n",
      "14.5 s ± 0 ns per loop (mean ± std. dev. of 1 run, 1 loop each)\n",
      "14.5 s ± 0 ns per loop (mean ± std. dev. of 1 run, 1 loop each)\n",
      "14.511701291000008\n",
      "6\n",
      "13.8 s ± 0 ns per loop (mean ± std. dev. of 1 run, 1 loop each)\n",
      "13.8 s ± 0 ns per loop (mean ± std. dev. of 1 run, 1 loop each)\n",
      "13.843257755000195\n",
      "6000\n",
      "1\n",
      "49.4 s ± 0 ns per loop (mean ± std. dev. of 1 run, 1 loop each)\n",
      "49.4 s ± 0 ns per loop (mean ± std. dev. of 1 run, 1 loop each)\n",
      "49.39872269699981\n",
      "2\n",
      "26.8 s ± 0 ns per loop (mean ± std. dev. of 1 run, 1 loop each)\n",
      "26.8 s ± 0 ns per loop (mean ± std. dev. of 1 run, 1 loop each)\n",
      "26.84751287400013\n",
      "3\n",
      "21.7 s ± 0 ns per loop (mean ± std. dev. of 1 run, 1 loop each)\n",
      "21.7 s ± 0 ns per loop (mean ± std. dev. of 1 run, 1 loop each)\n",
      "21.69317729400018\n",
      "4\n",
      "19.1 s ± 0 ns per loop (mean ± std. dev. of 1 run, 1 loop each)\n",
      "19.1 s ± 0 ns per loop (mean ± std. dev. of 1 run, 1 loop each)\n",
      "19.062054372999683\n",
      "5\n",
      "21 s ± 0 ns per loop (mean ± std. dev. of 1 run, 1 loop each)\n",
      "21 s ± 0 ns per loop (mean ± std. dev. of 1 run, 1 loop each)\n",
      "20.982885833999717\n",
      "6\n",
      "19.7 s ± 0 ns per loop (mean ± std. dev. of 1 run, 1 loop each)\n",
      "19.7 s ± 0 ns per loop (mean ± std. dev. of 1 run, 1 loop each)\n",
      "19.68929753600014\n",
      "7000\n",
      "1\n",
      "1min 7s ± 0 ns per loop (mean ± std. dev. of 1 run, 1 loop each)\n",
      "1min 7s ± 0 ns per loop (mean ± std. dev. of 1 run, 1 loop each)\n",
      "67.13829802800001\n",
      "2\n",
      "37.3 s ± 0 ns per loop (mean ± std. dev. of 1 run, 1 loop each)\n",
      "37.3 s ± 0 ns per loop (mean ± std. dev. of 1 run, 1 loop each)\n",
      "37.304311849999976\n",
      "3\n",
      "29.9 s ± 0 ns per loop (mean ± std. dev. of 1 run, 1 loop each)\n",
      "29.9 s ± 0 ns per loop (mean ± std. dev. of 1 run, 1 loop each)\n",
      "29.936576434000017\n",
      "4\n",
      "25.7 s ± 0 ns per loop (mean ± std. dev. of 1 run, 1 loop each)\n",
      "25.7 s ± 0 ns per loop (mean ± std. dev. of 1 run, 1 loop each)\n",
      "25.663770690000092\n",
      "5\n",
      "28.5 s ± 0 ns per loop (mean ± std. dev. of 1 run, 1 loop each)\n",
      "28.5 s ± 0 ns per loop (mean ± std. dev. of 1 run, 1 loop each)\n",
      "28.459414316999755\n",
      "6\n",
      "26.9 s ± 0 ns per loop (mean ± std. dev. of 1 run, 1 loop each)\n",
      "26.9 s ± 0 ns per loop (mean ± std. dev. of 1 run, 1 loop each)\n",
      "26.86587356300015\n",
      "8000\n",
      "1\n",
      "1min 28s ± 0 ns per loop (mean ± std. dev. of 1 run, 1 loop each)\n",
      "1min 28s ± 0 ns per loop (mean ± std. dev. of 1 run, 1 loop each)\n",
      "88.05311542899972\n",
      "2\n",
      "48.7 s ± 0 ns per loop (mean ± std. dev. of 1 run, 1 loop each)\n",
      "48.7 s ± 0 ns per loop (mean ± std. dev. of 1 run, 1 loop each)\n",
      "48.661118390999945\n",
      "3\n",
      "39.6 s ± 0 ns per loop (mean ± std. dev. of 1 run, 1 loop each)\n",
      "39.6 s ± 0 ns per loop (mean ± std. dev. of 1 run, 1 loop each)\n",
      "39.581497692000084\n",
      "4\n",
      "34.4 s ± 0 ns per loop (mean ± std. dev. of 1 run, 1 loop each)\n",
      "34.4 s ± 0 ns per loop (mean ± std. dev. of 1 run, 1 loop each)\n",
      "34.40538196599982\n",
      "5\n",
      "37.5 s ± 0 ns per loop (mean ± std. dev. of 1 run, 1 loop each)\n",
      "37.5 s ± 0 ns per loop (mean ± std. dev. of 1 run, 1 loop each)\n",
      "37.505117617999986\n",
      "6\n",
      "35.9 s ± 0 ns per loop (mean ± std. dev. of 1 run, 1 loop each)\n",
      "35.9 s ± 0 ns per loop (mean ± std. dev. of 1 run, 1 loop each)\n",
      "35.85853748699992\n",
      "9000\n",
      "1\n",
      "1min 52s ± 0 ns per loop (mean ± std. dev. of 1 run, 1 loop each)\n",
      "1min 52s ± 0 ns per loop (mean ± std. dev. of 1 run, 1 loop each)\n",
      "112.10682751500008\n",
      "2\n",
      "1min 4s ± 0 ns per loop (mean ± std. dev. of 1 run, 1 loop each)\n",
      "1min 4s ± 0 ns per loop (mean ± std. dev. of 1 run, 1 loop each)\n",
      "64.664380789\n",
      "3\n",
      "51.5 s ± 0 ns per loop (mean ± std. dev. of 1 run, 1 loop each)\n",
      "51.5 s ± 0 ns per loop (mean ± std. dev. of 1 run, 1 loop each)\n",
      "51.500511694000124\n",
      "4\n",
      "39.2 s ± 0 ns per loop (mean ± std. dev. of 1 run, 1 loop each)\n",
      "39.2 s ± 0 ns per loop (mean ± std. dev. of 1 run, 1 loop each)\n",
      "39.20042292199969\n",
      "5\n",
      "44.6 s ± 0 ns per loop (mean ± std. dev. of 1 run, 1 loop each)\n",
      "44.6 s ± 0 ns per loop (mean ± std. dev. of 1 run, 1 loop each)\n",
      "44.644664226999794\n",
      "6\n",
      "41.5 s ± 0 ns per loop (mean ± std. dev. of 1 run, 1 loop each)\n",
      "41.5 s ± 0 ns per loop (mean ± std. dev. of 1 run, 1 loop each)\n",
      "41.460470516999976\n",
      "10000\n",
      "1\n",
      "2min 15s ± 0 ns per loop (mean ± std. dev. of 1 run, 1 loop each)\n",
      "2min 15s ± 0 ns per loop (mean ± std. dev. of 1 run, 1 loop each)\n",
      "135.08775769199974\n",
      "2\n",
      "1min 14s ± 0 ns per loop (mean ± std. dev. of 1 run, 1 loop each)\n",
      "1min 14s ± 0 ns per loop (mean ± std. dev. of 1 run, 1 loop each)\n",
      "74.69593599300015\n",
      "3\n",
      "57 s ± 0 ns per loop (mean ± std. dev. of 1 run, 1 loop each)\n",
      "57 s ± 0 ns per loop (mean ± std. dev. of 1 run, 1 loop each)\n",
      "57.0292970280002\n",
      "4\n",
      "48.7 s ± 0 ns per loop (mean ± std. dev. of 1 run, 1 loop each)\n",
      "48.7 s ± 0 ns per loop (mean ± std. dev. of 1 run, 1 loop each)\n",
      "48.67774324700031\n",
      "5\n",
      "57.2 s ± 0 ns per loop (mean ± std. dev. of 1 run, 1 loop each)\n",
      "57.2 s ± 0 ns per loop (mean ± std. dev. of 1 run, 1 loop each)\n",
      "57.16405977600016\n",
      "6\n",
      "55.9 s ± 0 ns per loop (mean ± std. dev. of 1 run, 1 loop each)\n",
      "55.9 s ± 0 ns per loop (mean ± std. dev. of 1 run, 1 loop each)\n",
      "55.86758585200005\n"
     ]
    }
   ],
   "source": [
    "times_multiprocessing = []\n",
    "for size in np.linspace(1000, 10000, 10):\n",
    "    n = int(size)\n",
    "    print(n)\n",
    "    A = np.random.rand(n, n)\n",
    "    b = np.random.rand(n)\n",
    "    for threads in range(1, 7):\n",
    "        print(threads)\n",
    "        times = %timeit -o -n 1 -r 1 arnoldi_iteration_multiprocessing(A, b, 3, False, threads)\n",
    "        print(times)\n",
    "        print(times.average)\n",
    "        times_multiprocessing.append(times.average)"
   ]
  },
  {
   "cell_type": "code",
   "execution_count": 22,
   "metadata": {},
   "outputs": [],
   "source": [
    "import plotly.graph_objects as go"
   ]
  },
  {
   "cell_type": "code",
   "execution_count": 27,
   "metadata": {},
   "outputs": [
    {
     "data": {
      "application/vnd.plotly.v1+json": {
       "config": {
        "plotlyServerURL": "https://plot.ly"
       },
       "data": [
        {
         "type": "surface",
         "x": [
          [
           1,
           2,
           3,
           4,
           5,
           6,
           7,
           8
          ],
          [
           1,
           2,
           3,
           4,
           5,
           6,
           7,
           8
          ],
          [
           1,
           2,
           3,
           4,
           5,
           6,
           7,
           8
          ],
          [
           1,
           2,
           3,
           4,
           5,
           6,
           7,
           8
          ],
          [
           1,
           2,
           3,
           4,
           5,
           6,
           7,
           8
          ],
          [
           1,
           2,
           3,
           4,
           5,
           6,
           7,
           8
          ],
          [
           1,
           2,
           3,
           4,
           5,
           6,
           7,
           8
          ],
          [
           1,
           2,
           3,
           4,
           5,
           6,
           7,
           8
          ],
          [
           1,
           2,
           3,
           4,
           5,
           6,
           7,
           8
          ],
          [
           1,
           2,
           3,
           4,
           5,
           6,
           7,
           8
          ]
         ],
         "y": [
          [
           1000,
           1000,
           1000,
           1000,
           1000,
           1000,
           1000,
           1000
          ],
          [
           2000,
           2000,
           2000,
           2000,
           2000,
           2000,
           2000,
           2000
          ],
          [
           3000,
           3000,
           3000,
           3000,
           3000,
           3000,
           3000,
           3000
          ],
          [
           4000,
           4000,
           4000,
           4000,
           4000,
           4000,
           4000,
           4000
          ],
          [
           5000,
           5000,
           5000,
           5000,
           5000,
           5000,
           5000,
           5000
          ],
          [
           6000,
           6000,
           6000,
           6000,
           6000,
           6000,
           6000,
           6000
          ],
          [
           7000,
           7000,
           7000,
           7000,
           7000,
           7000,
           7000,
           7000
          ],
          [
           8000,
           8000,
           8000,
           8000,
           8000,
           8000,
           8000,
           8000
          ],
          [
           9000,
           9000,
           9000,
           9000,
           9000,
           9000,
           9000,
           9000
          ],
          [
           10000,
           10000,
           10000,
           10000,
           10000,
           10000,
           10000,
           10000
          ]
         ],
         "z": [
          [
           0.004437987599976623,
           0.004709277599977213,
           0.004629212600002574,
           0.004039566599976752,
           0.003996334600014961,
           0.004004224599975714,
           0.004024081599936835,
           0.003965506800068397
          ],
          [
           0.02589791300001707,
           0.025405387199998585,
           0.02534815919993889,
           0.025389285800019933,
           0.02537787319997733,
           0.025398718800079222,
           0.025411275199940065,
           0.025587740600030884
          ],
          [
           0.06691102999998293,
           0.0661037406000105,
           0.06552387359997738,
           0.06603479939999488,
           0.06791292000007161,
           0.06566264580005736,
           0.06568316360003337,
           0.06564016019997325
          ],
          [
           0.1250216057999296,
           0.1249731850000444,
           0.12536119379997218,
           0.12495970839995607,
           0.12487790720001612,
           0.12494388379996053,
           0.12483112500008246,
           0.12484804860000623
          ],
          [
           0.2034510479999881,
           0.20328635760001817,
           0.20273183979998066,
           0.20233365180001783,
           0.2020348379999632,
           0.20249764219997815,
           0.20247918939999182,
           0.20244148500000847
          ],
          [
           0.29999937180004965,
           0.29888400000004367,
           0.2996212477999961,
           0.2986609447999854,
           0.2983527106000565,
           0.29849099940001905,
           0.2992826738000531,
           0.2999021942000127
          ],
          [
           0.6129616415999862,
           0.6147493184000268,
           0.620788490599989,
           0.6160575790000167,
           0.6229009141999995,
           0.6685863130000144,
           0.6637603058000423,
           0.6647662251999463
          ],
          [
           0.7992523548000008,
           0.8037479136000002,
           0.8047260864000236,
           0.8005295288000525,
           0.8022104600000148,
           0.8077043016000516,
           0.8032401138000296,
           0.80027377779993
          ],
          [
           0.939166364599987,
           0.9565620331999526,
           0.9534409645999403,
           0.9544853553999019,
           0.9538330124000822,
           0.9540571022000222,
           0.9512709144000837,
           0.9535786476000794
          ],
          [
           1.0992938319999666,
           1.1275074267999117,
           1.1239171041999725,
           1.1155852432000757,
           1.1187719430000471,
           1.1207048664000467,
           1.1232787502000066,
           1.1225685634000002
          ]
         ]
        }
       ],
       "layout": {
        "autosize": false,
        "height": 750,
        "margin": {
         "b": 65,
         "l": 65,
         "r": 50,
         "t": 90
        },
        "scene": {
         "xaxis": {
          "title": {
           "text": "Amount of threads"
          }
         },
         "yaxis": {
          "title": {
           "text": "Size of matrix"
          }
         },
         "zaxis": {
          "title": {
           "text": "Time, sec"
          }
         }
        },
        "template": {
         "data": {
          "bar": [
           {
            "error_x": {
             "color": "#2a3f5f"
            },
            "error_y": {
             "color": "#2a3f5f"
            },
            "marker": {
             "line": {
              "color": "#E5ECF6",
              "width": 0.5
             },
             "pattern": {
              "fillmode": "overlay",
              "size": 10,
              "solidity": 0.2
             }
            },
            "type": "bar"
           }
          ],
          "barpolar": [
           {
            "marker": {
             "line": {
              "color": "#E5ECF6",
              "width": 0.5
             },
             "pattern": {
              "fillmode": "overlay",
              "size": 10,
              "solidity": 0.2
             }
            },
            "type": "barpolar"
           }
          ],
          "carpet": [
           {
            "aaxis": {
             "endlinecolor": "#2a3f5f",
             "gridcolor": "white",
             "linecolor": "white",
             "minorgridcolor": "white",
             "startlinecolor": "#2a3f5f"
            },
            "baxis": {
             "endlinecolor": "#2a3f5f",
             "gridcolor": "white",
             "linecolor": "white",
             "minorgridcolor": "white",
             "startlinecolor": "#2a3f5f"
            },
            "type": "carpet"
           }
          ],
          "choropleth": [
           {
            "colorbar": {
             "outlinewidth": 0,
             "ticks": ""
            },
            "type": "choropleth"
           }
          ],
          "contour": [
           {
            "colorbar": {
             "outlinewidth": 0,
             "ticks": ""
            },
            "colorscale": [
             [
              0,
              "#0d0887"
             ],
             [
              0.1111111111111111,
              "#46039f"
             ],
             [
              0.2222222222222222,
              "#7201a8"
             ],
             [
              0.3333333333333333,
              "#9c179e"
             ],
             [
              0.4444444444444444,
              "#bd3786"
             ],
             [
              0.5555555555555556,
              "#d8576b"
             ],
             [
              0.6666666666666666,
              "#ed7953"
             ],
             [
              0.7777777777777778,
              "#fb9f3a"
             ],
             [
              0.8888888888888888,
              "#fdca26"
             ],
             [
              1,
              "#f0f921"
             ]
            ],
            "type": "contour"
           }
          ],
          "contourcarpet": [
           {
            "colorbar": {
             "outlinewidth": 0,
             "ticks": ""
            },
            "type": "contourcarpet"
           }
          ],
          "heatmap": [
           {
            "colorbar": {
             "outlinewidth": 0,
             "ticks": ""
            },
            "colorscale": [
             [
              0,
              "#0d0887"
             ],
             [
              0.1111111111111111,
              "#46039f"
             ],
             [
              0.2222222222222222,
              "#7201a8"
             ],
             [
              0.3333333333333333,
              "#9c179e"
             ],
             [
              0.4444444444444444,
              "#bd3786"
             ],
             [
              0.5555555555555556,
              "#d8576b"
             ],
             [
              0.6666666666666666,
              "#ed7953"
             ],
             [
              0.7777777777777778,
              "#fb9f3a"
             ],
             [
              0.8888888888888888,
              "#fdca26"
             ],
             [
              1,
              "#f0f921"
             ]
            ],
            "type": "heatmap"
           }
          ],
          "heatmapgl": [
           {
            "colorbar": {
             "outlinewidth": 0,
             "ticks": ""
            },
            "colorscale": [
             [
              0,
              "#0d0887"
             ],
             [
              0.1111111111111111,
              "#46039f"
             ],
             [
              0.2222222222222222,
              "#7201a8"
             ],
             [
              0.3333333333333333,
              "#9c179e"
             ],
             [
              0.4444444444444444,
              "#bd3786"
             ],
             [
              0.5555555555555556,
              "#d8576b"
             ],
             [
              0.6666666666666666,
              "#ed7953"
             ],
             [
              0.7777777777777778,
              "#fb9f3a"
             ],
             [
              0.8888888888888888,
              "#fdca26"
             ],
             [
              1,
              "#f0f921"
             ]
            ],
            "type": "heatmapgl"
           }
          ],
          "histogram": [
           {
            "marker": {
             "pattern": {
              "fillmode": "overlay",
              "size": 10,
              "solidity": 0.2
             }
            },
            "type": "histogram"
           }
          ],
          "histogram2d": [
           {
            "colorbar": {
             "outlinewidth": 0,
             "ticks": ""
            },
            "colorscale": [
             [
              0,
              "#0d0887"
             ],
             [
              0.1111111111111111,
              "#46039f"
             ],
             [
              0.2222222222222222,
              "#7201a8"
             ],
             [
              0.3333333333333333,
              "#9c179e"
             ],
             [
              0.4444444444444444,
              "#bd3786"
             ],
             [
              0.5555555555555556,
              "#d8576b"
             ],
             [
              0.6666666666666666,
              "#ed7953"
             ],
             [
              0.7777777777777778,
              "#fb9f3a"
             ],
             [
              0.8888888888888888,
              "#fdca26"
             ],
             [
              1,
              "#f0f921"
             ]
            ],
            "type": "histogram2d"
           }
          ],
          "histogram2dcontour": [
           {
            "colorbar": {
             "outlinewidth": 0,
             "ticks": ""
            },
            "colorscale": [
             [
              0,
              "#0d0887"
             ],
             [
              0.1111111111111111,
              "#46039f"
             ],
             [
              0.2222222222222222,
              "#7201a8"
             ],
             [
              0.3333333333333333,
              "#9c179e"
             ],
             [
              0.4444444444444444,
              "#bd3786"
             ],
             [
              0.5555555555555556,
              "#d8576b"
             ],
             [
              0.6666666666666666,
              "#ed7953"
             ],
             [
              0.7777777777777778,
              "#fb9f3a"
             ],
             [
              0.8888888888888888,
              "#fdca26"
             ],
             [
              1,
              "#f0f921"
             ]
            ],
            "type": "histogram2dcontour"
           }
          ],
          "mesh3d": [
           {
            "colorbar": {
             "outlinewidth": 0,
             "ticks": ""
            },
            "type": "mesh3d"
           }
          ],
          "parcoords": [
           {
            "line": {
             "colorbar": {
              "outlinewidth": 0,
              "ticks": ""
             }
            },
            "type": "parcoords"
           }
          ],
          "pie": [
           {
            "automargin": true,
            "type": "pie"
           }
          ],
          "scatter": [
           {
            "marker": {
             "colorbar": {
              "outlinewidth": 0,
              "ticks": ""
             }
            },
            "type": "scatter"
           }
          ],
          "scatter3d": [
           {
            "line": {
             "colorbar": {
              "outlinewidth": 0,
              "ticks": ""
             }
            },
            "marker": {
             "colorbar": {
              "outlinewidth": 0,
              "ticks": ""
             }
            },
            "type": "scatter3d"
           }
          ],
          "scattercarpet": [
           {
            "marker": {
             "colorbar": {
              "outlinewidth": 0,
              "ticks": ""
             }
            },
            "type": "scattercarpet"
           }
          ],
          "scattergeo": [
           {
            "marker": {
             "colorbar": {
              "outlinewidth": 0,
              "ticks": ""
             }
            },
            "type": "scattergeo"
           }
          ],
          "scattergl": [
           {
            "marker": {
             "colorbar": {
              "outlinewidth": 0,
              "ticks": ""
             }
            },
            "type": "scattergl"
           }
          ],
          "scattermapbox": [
           {
            "marker": {
             "colorbar": {
              "outlinewidth": 0,
              "ticks": ""
             }
            },
            "type": "scattermapbox"
           }
          ],
          "scatterpolar": [
           {
            "marker": {
             "colorbar": {
              "outlinewidth": 0,
              "ticks": ""
             }
            },
            "type": "scatterpolar"
           }
          ],
          "scatterpolargl": [
           {
            "marker": {
             "colorbar": {
              "outlinewidth": 0,
              "ticks": ""
             }
            },
            "type": "scatterpolargl"
           }
          ],
          "scatterternary": [
           {
            "marker": {
             "colorbar": {
              "outlinewidth": 0,
              "ticks": ""
             }
            },
            "type": "scatterternary"
           }
          ],
          "surface": [
           {
            "colorbar": {
             "outlinewidth": 0,
             "ticks": ""
            },
            "colorscale": [
             [
              0,
              "#0d0887"
             ],
             [
              0.1111111111111111,
              "#46039f"
             ],
             [
              0.2222222222222222,
              "#7201a8"
             ],
             [
              0.3333333333333333,
              "#9c179e"
             ],
             [
              0.4444444444444444,
              "#bd3786"
             ],
             [
              0.5555555555555556,
              "#d8576b"
             ],
             [
              0.6666666666666666,
              "#ed7953"
             ],
             [
              0.7777777777777778,
              "#fb9f3a"
             ],
             [
              0.8888888888888888,
              "#fdca26"
             ],
             [
              1,
              "#f0f921"
             ]
            ],
            "type": "surface"
           }
          ],
          "table": [
           {
            "cells": {
             "fill": {
              "color": "#EBF0F8"
             },
             "line": {
              "color": "white"
             }
            },
            "header": {
             "fill": {
              "color": "#C8D4E3"
             },
             "line": {
              "color": "white"
             }
            },
            "type": "table"
           }
          ]
         },
         "layout": {
          "annotationdefaults": {
           "arrowcolor": "#2a3f5f",
           "arrowhead": 0,
           "arrowwidth": 1
          },
          "autotypenumbers": "strict",
          "coloraxis": {
           "colorbar": {
            "outlinewidth": 0,
            "ticks": ""
           }
          },
          "colorscale": {
           "diverging": [
            [
             0,
             "#8e0152"
            ],
            [
             0.1,
             "#c51b7d"
            ],
            [
             0.2,
             "#de77ae"
            ],
            [
             0.3,
             "#f1b6da"
            ],
            [
             0.4,
             "#fde0ef"
            ],
            [
             0.5,
             "#f7f7f7"
            ],
            [
             0.6,
             "#e6f5d0"
            ],
            [
             0.7,
             "#b8e186"
            ],
            [
             0.8,
             "#7fbc41"
            ],
            [
             0.9,
             "#4d9221"
            ],
            [
             1,
             "#276419"
            ]
           ],
           "sequential": [
            [
             0,
             "#0d0887"
            ],
            [
             0.1111111111111111,
             "#46039f"
            ],
            [
             0.2222222222222222,
             "#7201a8"
            ],
            [
             0.3333333333333333,
             "#9c179e"
            ],
            [
             0.4444444444444444,
             "#bd3786"
            ],
            [
             0.5555555555555556,
             "#d8576b"
            ],
            [
             0.6666666666666666,
             "#ed7953"
            ],
            [
             0.7777777777777778,
             "#fb9f3a"
            ],
            [
             0.8888888888888888,
             "#fdca26"
            ],
            [
             1,
             "#f0f921"
            ]
           ],
           "sequentialminus": [
            [
             0,
             "#0d0887"
            ],
            [
             0.1111111111111111,
             "#46039f"
            ],
            [
             0.2222222222222222,
             "#7201a8"
            ],
            [
             0.3333333333333333,
             "#9c179e"
            ],
            [
             0.4444444444444444,
             "#bd3786"
            ],
            [
             0.5555555555555556,
             "#d8576b"
            ],
            [
             0.6666666666666666,
             "#ed7953"
            ],
            [
             0.7777777777777778,
             "#fb9f3a"
            ],
            [
             0.8888888888888888,
             "#fdca26"
            ],
            [
             1,
             "#f0f921"
            ]
           ]
          },
          "colorway": [
           "#636efa",
           "#EF553B",
           "#00cc96",
           "#ab63fa",
           "#FFA15A",
           "#19d3f3",
           "#FF6692",
           "#B6E880",
           "#FF97FF",
           "#FECB52"
          ],
          "font": {
           "color": "#2a3f5f"
          },
          "geo": {
           "bgcolor": "white",
           "lakecolor": "white",
           "landcolor": "#E5ECF6",
           "showlakes": true,
           "showland": true,
           "subunitcolor": "white"
          },
          "hoverlabel": {
           "align": "left"
          },
          "hovermode": "closest",
          "mapbox": {
           "style": "light"
          },
          "paper_bgcolor": "white",
          "plot_bgcolor": "#E5ECF6",
          "polar": {
           "angularaxis": {
            "gridcolor": "white",
            "linecolor": "white",
            "ticks": ""
           },
           "bgcolor": "#E5ECF6",
           "radialaxis": {
            "gridcolor": "white",
            "linecolor": "white",
            "ticks": ""
           }
          },
          "scene": {
           "xaxis": {
            "backgroundcolor": "#E5ECF6",
            "gridcolor": "white",
            "gridwidth": 2,
            "linecolor": "white",
            "showbackground": true,
            "ticks": "",
            "zerolinecolor": "white"
           },
           "yaxis": {
            "backgroundcolor": "#E5ECF6",
            "gridcolor": "white",
            "gridwidth": 2,
            "linecolor": "white",
            "showbackground": true,
            "ticks": "",
            "zerolinecolor": "white"
           },
           "zaxis": {
            "backgroundcolor": "#E5ECF6",
            "gridcolor": "white",
            "gridwidth": 2,
            "linecolor": "white",
            "showbackground": true,
            "ticks": "",
            "zerolinecolor": "white"
           }
          },
          "shapedefaults": {
           "line": {
            "color": "#2a3f5f"
           }
          },
          "ternary": {
           "aaxis": {
            "gridcolor": "white",
            "linecolor": "white",
            "ticks": ""
           },
           "baxis": {
            "gridcolor": "white",
            "linecolor": "white",
            "ticks": ""
           },
           "bgcolor": "#E5ECF6",
           "caxis": {
            "gridcolor": "white",
            "linecolor": "white",
            "ticks": ""
           }
          },
          "title": {
           "x": 0.05
          },
          "xaxis": {
           "automargin": true,
           "gridcolor": "white",
           "linecolor": "white",
           "ticks": "",
           "title": {
            "standoff": 15
           },
           "zerolinecolor": "white",
           "zerolinewidth": 2
          },
          "yaxis": {
           "automargin": true,
           "gridcolor": "white",
           "linecolor": "white",
           "ticks": "",
           "title": {
            "standoff": 15
           },
           "zerolinecolor": "white",
           "zerolinewidth": 2
          }
         }
        },
        "title": {
         "text": "Numba parallel"
        },
        "width": 750
       }
      }
     },
     "metadata": {},
     "output_type": "display_data"
    }
   ],
   "source": [
    "times_numba_parallel = np.array(times_numba_parallel).reshape(10, 8)\n",
    "matrix_size, threads = np.meshgrid(np.arange(1, 9), np.linspace(1000, 10000, 10))\n",
    "fig = go.Figure(data=[go.Surface(z=times_numba_parallel, x=matrix_size, y=threads)])\n",
    "fig.update_layout(title='Numba parallel', autosize=False,\n",
    "                  width=750, height=750,\n",
    "                  margin=dict(l=65, r=50, b=65, t=90),\n",
    "                  scene= go.Scene(\n",
    "                    xaxis=go.XAxis(title='Amount of threads'),\n",
    "                    yaxis=go.YAxis(title='Size of matrix'),\n",
    "                    zaxis=go.ZAxis(title='Time, sec')))\n",
    "fig.show()"
   ]
  },
  {
   "cell_type": "code",
   "execution_count": 26,
   "metadata": {},
   "outputs": [
    {
     "data": {
      "application/vnd.plotly.v1+json": {
       "config": {
        "plotlyServerURL": "https://plot.ly"
       },
       "data": [
        {
         "type": "surface",
         "x": [
          [
           1,
           2,
           3,
           4,
           5,
           6
          ],
          [
           1,
           2,
           3,
           4,
           5,
           6
          ],
          [
           1,
           2,
           3,
           4,
           5,
           6
          ],
          [
           1,
           2,
           3,
           4,
           5,
           6
          ],
          [
           1,
           2,
           3,
           4,
           5,
           6
          ],
          [
           1,
           2,
           3,
           4,
           5,
           6
          ],
          [
           1,
           2,
           3,
           4,
           5,
           6
          ],
          [
           1,
           2,
           3,
           4,
           5,
           6
          ],
          [
           1,
           2,
           3,
           4,
           5,
           6
          ],
          [
           1,
           2,
           3,
           4,
           5,
           6
          ]
         ],
         "y": [
          [
           1000,
           1000,
           1000,
           1000,
           1000,
           1000
          ],
          [
           2000,
           2000,
           2000,
           2000,
           2000,
           2000
          ],
          [
           3000,
           3000,
           3000,
           3000,
           3000,
           3000
          ],
          [
           4000,
           4000,
           4000,
           4000,
           4000,
           4000
          ],
          [
           5000,
           5000,
           5000,
           5000,
           5000,
           5000
          ],
          [
           6000,
           6000,
           6000,
           6000,
           6000,
           6000
          ],
          [
           7000,
           7000,
           7000,
           7000,
           7000,
           7000
          ],
          [
           8000,
           8000,
           8000,
           8000,
           8000,
           8000
          ],
          [
           9000,
           9000,
           9000,
           9000,
           9000,
           9000
          ],
          [
           10000,
           10000,
           10000,
           10000,
           10000,
           10000
          ]
         ],
         "z": [
          [
           1.4756701090000206,
           0.7636390920001759,
           0.6236950450002041,
           0.691175949999888,
           0.6638222540000243,
           0.680741825000041
          ],
          [
           5.452280715999677,
           2.9046871069999725,
           2.4614077229998657,
           2.1794536600000356,
           2.421565396999995,
           2.4774439669999992
          ],
          [
           12.493997834999846,
           6.444674219000262,
           5.458600209999986,
           4.752280707999944,
           5.410766315000274,
           5.166416791999836
          ],
          [
           21.804606697000054,
           11.662993436999841,
           9.641110982999635,
           8.715759454999898,
           9.37159543000007,
           9.179495512000358
          ],
          [
           38.43692183800022,
           18.613091464999798,
           15.250014443000055,
           13.365524966000066,
           14.511701291000008,
           13.843257755000195
          ],
          [
           49.39872269699981,
           26.84751287400013,
           21.69317729400018,
           19.062054372999683,
           20.982885833999717,
           19.68929753600014
          ],
          [
           67.13829802800001,
           37.304311849999976,
           29.936576434000017,
           25.663770690000092,
           28.459414316999755,
           26.86587356300015
          ],
          [
           88.05311542899972,
           48.661118390999945,
           39.581497692000084,
           34.40538196599982,
           37.505117617999986,
           35.85853748699992
          ],
          [
           112.10682751500008,
           64.664380789,
           51.500511694000124,
           39.20042292199969,
           44.644664226999794,
           41.460470516999976
          ],
          [
           135.08775769199974,
           74.69593599300015,
           57.0292970280002,
           48.67774324700031,
           57.16405977600016,
           55.86758585200005
          ]
         ]
        }
       ],
       "layout": {
        "autosize": false,
        "height": 750,
        "margin": {
         "b": 65,
         "l": 65,
         "r": 50,
         "t": 90
        },
        "scene": {
         "xaxis": {
          "title": {
           "text": "Amount of threads"
          }
         },
         "yaxis": {
          "title": {
           "text": "Size of matrix"
          }
         },
         "zaxis": {
          "title": {
           "text": "Time, sec"
          }
         }
        },
        "template": {
         "data": {
          "bar": [
           {
            "error_x": {
             "color": "#2a3f5f"
            },
            "error_y": {
             "color": "#2a3f5f"
            },
            "marker": {
             "line": {
              "color": "#E5ECF6",
              "width": 0.5
             },
             "pattern": {
              "fillmode": "overlay",
              "size": 10,
              "solidity": 0.2
             }
            },
            "type": "bar"
           }
          ],
          "barpolar": [
           {
            "marker": {
             "line": {
              "color": "#E5ECF6",
              "width": 0.5
             },
             "pattern": {
              "fillmode": "overlay",
              "size": 10,
              "solidity": 0.2
             }
            },
            "type": "barpolar"
           }
          ],
          "carpet": [
           {
            "aaxis": {
             "endlinecolor": "#2a3f5f",
             "gridcolor": "white",
             "linecolor": "white",
             "minorgridcolor": "white",
             "startlinecolor": "#2a3f5f"
            },
            "baxis": {
             "endlinecolor": "#2a3f5f",
             "gridcolor": "white",
             "linecolor": "white",
             "minorgridcolor": "white",
             "startlinecolor": "#2a3f5f"
            },
            "type": "carpet"
           }
          ],
          "choropleth": [
           {
            "colorbar": {
             "outlinewidth": 0,
             "ticks": ""
            },
            "type": "choropleth"
           }
          ],
          "contour": [
           {
            "colorbar": {
             "outlinewidth": 0,
             "ticks": ""
            },
            "colorscale": [
             [
              0,
              "#0d0887"
             ],
             [
              0.1111111111111111,
              "#46039f"
             ],
             [
              0.2222222222222222,
              "#7201a8"
             ],
             [
              0.3333333333333333,
              "#9c179e"
             ],
             [
              0.4444444444444444,
              "#bd3786"
             ],
             [
              0.5555555555555556,
              "#d8576b"
             ],
             [
              0.6666666666666666,
              "#ed7953"
             ],
             [
              0.7777777777777778,
              "#fb9f3a"
             ],
             [
              0.8888888888888888,
              "#fdca26"
             ],
             [
              1,
              "#f0f921"
             ]
            ],
            "type": "contour"
           }
          ],
          "contourcarpet": [
           {
            "colorbar": {
             "outlinewidth": 0,
             "ticks": ""
            },
            "type": "contourcarpet"
           }
          ],
          "heatmap": [
           {
            "colorbar": {
             "outlinewidth": 0,
             "ticks": ""
            },
            "colorscale": [
             [
              0,
              "#0d0887"
             ],
             [
              0.1111111111111111,
              "#46039f"
             ],
             [
              0.2222222222222222,
              "#7201a8"
             ],
             [
              0.3333333333333333,
              "#9c179e"
             ],
             [
              0.4444444444444444,
              "#bd3786"
             ],
             [
              0.5555555555555556,
              "#d8576b"
             ],
             [
              0.6666666666666666,
              "#ed7953"
             ],
             [
              0.7777777777777778,
              "#fb9f3a"
             ],
             [
              0.8888888888888888,
              "#fdca26"
             ],
             [
              1,
              "#f0f921"
             ]
            ],
            "type": "heatmap"
           }
          ],
          "heatmapgl": [
           {
            "colorbar": {
             "outlinewidth": 0,
             "ticks": ""
            },
            "colorscale": [
             [
              0,
              "#0d0887"
             ],
             [
              0.1111111111111111,
              "#46039f"
             ],
             [
              0.2222222222222222,
              "#7201a8"
             ],
             [
              0.3333333333333333,
              "#9c179e"
             ],
             [
              0.4444444444444444,
              "#bd3786"
             ],
             [
              0.5555555555555556,
              "#d8576b"
             ],
             [
              0.6666666666666666,
              "#ed7953"
             ],
             [
              0.7777777777777778,
              "#fb9f3a"
             ],
             [
              0.8888888888888888,
              "#fdca26"
             ],
             [
              1,
              "#f0f921"
             ]
            ],
            "type": "heatmapgl"
           }
          ],
          "histogram": [
           {
            "marker": {
             "pattern": {
              "fillmode": "overlay",
              "size": 10,
              "solidity": 0.2
             }
            },
            "type": "histogram"
           }
          ],
          "histogram2d": [
           {
            "colorbar": {
             "outlinewidth": 0,
             "ticks": ""
            },
            "colorscale": [
             [
              0,
              "#0d0887"
             ],
             [
              0.1111111111111111,
              "#46039f"
             ],
             [
              0.2222222222222222,
              "#7201a8"
             ],
             [
              0.3333333333333333,
              "#9c179e"
             ],
             [
              0.4444444444444444,
              "#bd3786"
             ],
             [
              0.5555555555555556,
              "#d8576b"
             ],
             [
              0.6666666666666666,
              "#ed7953"
             ],
             [
              0.7777777777777778,
              "#fb9f3a"
             ],
             [
              0.8888888888888888,
              "#fdca26"
             ],
             [
              1,
              "#f0f921"
             ]
            ],
            "type": "histogram2d"
           }
          ],
          "histogram2dcontour": [
           {
            "colorbar": {
             "outlinewidth": 0,
             "ticks": ""
            },
            "colorscale": [
             [
              0,
              "#0d0887"
             ],
             [
              0.1111111111111111,
              "#46039f"
             ],
             [
              0.2222222222222222,
              "#7201a8"
             ],
             [
              0.3333333333333333,
              "#9c179e"
             ],
             [
              0.4444444444444444,
              "#bd3786"
             ],
             [
              0.5555555555555556,
              "#d8576b"
             ],
             [
              0.6666666666666666,
              "#ed7953"
             ],
             [
              0.7777777777777778,
              "#fb9f3a"
             ],
             [
              0.8888888888888888,
              "#fdca26"
             ],
             [
              1,
              "#f0f921"
             ]
            ],
            "type": "histogram2dcontour"
           }
          ],
          "mesh3d": [
           {
            "colorbar": {
             "outlinewidth": 0,
             "ticks": ""
            },
            "type": "mesh3d"
           }
          ],
          "parcoords": [
           {
            "line": {
             "colorbar": {
              "outlinewidth": 0,
              "ticks": ""
             }
            },
            "type": "parcoords"
           }
          ],
          "pie": [
           {
            "automargin": true,
            "type": "pie"
           }
          ],
          "scatter": [
           {
            "marker": {
             "colorbar": {
              "outlinewidth": 0,
              "ticks": ""
             }
            },
            "type": "scatter"
           }
          ],
          "scatter3d": [
           {
            "line": {
             "colorbar": {
              "outlinewidth": 0,
              "ticks": ""
             }
            },
            "marker": {
             "colorbar": {
              "outlinewidth": 0,
              "ticks": ""
             }
            },
            "type": "scatter3d"
           }
          ],
          "scattercarpet": [
           {
            "marker": {
             "colorbar": {
              "outlinewidth": 0,
              "ticks": ""
             }
            },
            "type": "scattercarpet"
           }
          ],
          "scattergeo": [
           {
            "marker": {
             "colorbar": {
              "outlinewidth": 0,
              "ticks": ""
             }
            },
            "type": "scattergeo"
           }
          ],
          "scattergl": [
           {
            "marker": {
             "colorbar": {
              "outlinewidth": 0,
              "ticks": ""
             }
            },
            "type": "scattergl"
           }
          ],
          "scattermapbox": [
           {
            "marker": {
             "colorbar": {
              "outlinewidth": 0,
              "ticks": ""
             }
            },
            "type": "scattermapbox"
           }
          ],
          "scatterpolar": [
           {
            "marker": {
             "colorbar": {
              "outlinewidth": 0,
              "ticks": ""
             }
            },
            "type": "scatterpolar"
           }
          ],
          "scatterpolargl": [
           {
            "marker": {
             "colorbar": {
              "outlinewidth": 0,
              "ticks": ""
             }
            },
            "type": "scatterpolargl"
           }
          ],
          "scatterternary": [
           {
            "marker": {
             "colorbar": {
              "outlinewidth": 0,
              "ticks": ""
             }
            },
            "type": "scatterternary"
           }
          ],
          "surface": [
           {
            "colorbar": {
             "outlinewidth": 0,
             "ticks": ""
            },
            "colorscale": [
             [
              0,
              "#0d0887"
             ],
             [
              0.1111111111111111,
              "#46039f"
             ],
             [
              0.2222222222222222,
              "#7201a8"
             ],
             [
              0.3333333333333333,
              "#9c179e"
             ],
             [
              0.4444444444444444,
              "#bd3786"
             ],
             [
              0.5555555555555556,
              "#d8576b"
             ],
             [
              0.6666666666666666,
              "#ed7953"
             ],
             [
              0.7777777777777778,
              "#fb9f3a"
             ],
             [
              0.8888888888888888,
              "#fdca26"
             ],
             [
              1,
              "#f0f921"
             ]
            ],
            "type": "surface"
           }
          ],
          "table": [
           {
            "cells": {
             "fill": {
              "color": "#EBF0F8"
             },
             "line": {
              "color": "white"
             }
            },
            "header": {
             "fill": {
              "color": "#C8D4E3"
             },
             "line": {
              "color": "white"
             }
            },
            "type": "table"
           }
          ]
         },
         "layout": {
          "annotationdefaults": {
           "arrowcolor": "#2a3f5f",
           "arrowhead": 0,
           "arrowwidth": 1
          },
          "autotypenumbers": "strict",
          "coloraxis": {
           "colorbar": {
            "outlinewidth": 0,
            "ticks": ""
           }
          },
          "colorscale": {
           "diverging": [
            [
             0,
             "#8e0152"
            ],
            [
             0.1,
             "#c51b7d"
            ],
            [
             0.2,
             "#de77ae"
            ],
            [
             0.3,
             "#f1b6da"
            ],
            [
             0.4,
             "#fde0ef"
            ],
            [
             0.5,
             "#f7f7f7"
            ],
            [
             0.6,
             "#e6f5d0"
            ],
            [
             0.7,
             "#b8e186"
            ],
            [
             0.8,
             "#7fbc41"
            ],
            [
             0.9,
             "#4d9221"
            ],
            [
             1,
             "#276419"
            ]
           ],
           "sequential": [
            [
             0,
             "#0d0887"
            ],
            [
             0.1111111111111111,
             "#46039f"
            ],
            [
             0.2222222222222222,
             "#7201a8"
            ],
            [
             0.3333333333333333,
             "#9c179e"
            ],
            [
             0.4444444444444444,
             "#bd3786"
            ],
            [
             0.5555555555555556,
             "#d8576b"
            ],
            [
             0.6666666666666666,
             "#ed7953"
            ],
            [
             0.7777777777777778,
             "#fb9f3a"
            ],
            [
             0.8888888888888888,
             "#fdca26"
            ],
            [
             1,
             "#f0f921"
            ]
           ],
           "sequentialminus": [
            [
             0,
             "#0d0887"
            ],
            [
             0.1111111111111111,
             "#46039f"
            ],
            [
             0.2222222222222222,
             "#7201a8"
            ],
            [
             0.3333333333333333,
             "#9c179e"
            ],
            [
             0.4444444444444444,
             "#bd3786"
            ],
            [
             0.5555555555555556,
             "#d8576b"
            ],
            [
             0.6666666666666666,
             "#ed7953"
            ],
            [
             0.7777777777777778,
             "#fb9f3a"
            ],
            [
             0.8888888888888888,
             "#fdca26"
            ],
            [
             1,
             "#f0f921"
            ]
           ]
          },
          "colorway": [
           "#636efa",
           "#EF553B",
           "#00cc96",
           "#ab63fa",
           "#FFA15A",
           "#19d3f3",
           "#FF6692",
           "#B6E880",
           "#FF97FF",
           "#FECB52"
          ],
          "font": {
           "color": "#2a3f5f"
          },
          "geo": {
           "bgcolor": "white",
           "lakecolor": "white",
           "landcolor": "#E5ECF6",
           "showlakes": true,
           "showland": true,
           "subunitcolor": "white"
          },
          "hoverlabel": {
           "align": "left"
          },
          "hovermode": "closest",
          "mapbox": {
           "style": "light"
          },
          "paper_bgcolor": "white",
          "plot_bgcolor": "#E5ECF6",
          "polar": {
           "angularaxis": {
            "gridcolor": "white",
            "linecolor": "white",
            "ticks": ""
           },
           "bgcolor": "#E5ECF6",
           "radialaxis": {
            "gridcolor": "white",
            "linecolor": "white",
            "ticks": ""
           }
          },
          "scene": {
           "xaxis": {
            "backgroundcolor": "#E5ECF6",
            "gridcolor": "white",
            "gridwidth": 2,
            "linecolor": "white",
            "showbackground": true,
            "ticks": "",
            "zerolinecolor": "white"
           },
           "yaxis": {
            "backgroundcolor": "#E5ECF6",
            "gridcolor": "white",
            "gridwidth": 2,
            "linecolor": "white",
            "showbackground": true,
            "ticks": "",
            "zerolinecolor": "white"
           },
           "zaxis": {
            "backgroundcolor": "#E5ECF6",
            "gridcolor": "white",
            "gridwidth": 2,
            "linecolor": "white",
            "showbackground": true,
            "ticks": "",
            "zerolinecolor": "white"
           }
          },
          "shapedefaults": {
           "line": {
            "color": "#2a3f5f"
           }
          },
          "ternary": {
           "aaxis": {
            "gridcolor": "white",
            "linecolor": "white",
            "ticks": ""
           },
           "baxis": {
            "gridcolor": "white",
            "linecolor": "white",
            "ticks": ""
           },
           "bgcolor": "#E5ECF6",
           "caxis": {
            "gridcolor": "white",
            "linecolor": "white",
            "ticks": ""
           }
          },
          "title": {
           "x": 0.05
          },
          "xaxis": {
           "automargin": true,
           "gridcolor": "white",
           "linecolor": "white",
           "ticks": "",
           "title": {
            "standoff": 15
           },
           "zerolinecolor": "white",
           "zerolinewidth": 2
          },
          "yaxis": {
           "automargin": true,
           "gridcolor": "white",
           "linecolor": "white",
           "ticks": "",
           "title": {
            "standoff": 15
           },
           "zerolinecolor": "white",
           "zerolinewidth": 2
          }
         }
        },
        "title": {
         "text": "Multiprocessing"
        },
        "width": 750
       }
      }
     },
     "metadata": {},
     "output_type": "display_data"
    }
   ],
   "source": [
    "times_multiprocessing = np.array(times_multiprocessing).reshape(10, 6)\n",
    "matrix_size, threads = np.meshgrid(np.arange(1, 7), np.linspace(1000, 10000, 10))\n",
    "fig = go.Figure(data=[go.Surface(z=times_multiprocessing, x=matrix_size, y=threads)])\n",
    "fig.update_layout(title='Multiprocessing', autosize=False,\n",
    "                  width=750, height=750,\n",
    "                  margin=dict(l=65, r=50, b=65, t=90),\n",
    "                  scene= go.Scene(\n",
    "                    xaxis=go.XAxis(title='Amount of threads'),\n",
    "                    yaxis=go.YAxis(title='Size of matrix'),\n",
    "                    zaxis=go.ZAxis(title='Time, sec')))\n",
    "fig.show()"
   ]
  },
  {
   "cell_type": "code",
   "execution_count": 25,
   "metadata": {},
   "outputs": [
    {
     "data": {
      "text/plain": [
       "array([[  1.47567011,   0.76363909,   0.62369505,   0.69117595,\n",
       "          0.66382225,   0.68074183],\n",
       "       [  5.45228072,   2.90468711,   2.46140772,   2.17945366,\n",
       "          2.4215654 ,   2.47744397],\n",
       "       [ 12.49399783,   6.44467422,   5.45860021,   4.75228071,\n",
       "          5.41076632,   5.16641679],\n",
       "       [ 21.8046067 ,  11.66299344,   9.64111098,   8.71575945,\n",
       "          9.37159543,   9.17949551],\n",
       "       [ 38.43692184,  18.61309146,  15.25001444,  13.36552497,\n",
       "         14.51170129,  13.84325776],\n",
       "       [ 49.3987227 ,  26.84751287,  21.69317729,  19.06205437,\n",
       "         20.98288583,  19.68929754],\n",
       "       [ 67.13829803,  37.30431185,  29.93657643,  25.66377069,\n",
       "         28.45941432,  26.86587356],\n",
       "       [ 88.05311543,  48.66111839,  39.58149769,  34.40538197,\n",
       "         37.50511762,  35.85853749],\n",
       "       [112.10682752,  64.66438079,  51.50051169,  39.20042292,\n",
       "         44.64466423,  41.46047052],\n",
       "       [135.08775769,  74.69593599,  57.02929703,  48.67774325,\n",
       "         57.16405978,  55.86758585]])"
      ]
     },
     "execution_count": 25,
     "metadata": {},
     "output_type": "execute_result"
    }
   ],
   "source": [
    "times_multiprocessing"
   ]
  },
  {
   "cell_type": "code",
   "execution_count": null,
   "metadata": {},
   "outputs": [],
   "source": []
  }
 ],
 "metadata": {
  "kernelspec": {
   "display_name": "base",
   "language": "python",
   "name": "python3"
  },
  "language_info": {
   "codemirror_mode": {
    "name": "ipython",
    "version": 3
   },
   "file_extension": ".py",
   "mimetype": "text/x-python",
   "name": "python",
   "nbconvert_exporter": "python",
   "pygments_lexer": "ipython3",
   "version": "3.8.8"
  },
  "orig_nbformat": 4
 },
 "nbformat": 4,
 "nbformat_minor": 2
}
