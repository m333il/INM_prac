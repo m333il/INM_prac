{
 "cells": [
  {
   "cell_type": "code",
   "execution_count": 1,
   "metadata": {},
   "outputs": [],
   "source": [
    "import numpy as np\n",
    "import numba\n",
    "from numba import prange"
   ]
  },
  {
   "cell_type": "code",
   "execution_count": 2,
   "metadata": {},
   "outputs": [],
   "source": [
    "def arnoldi_iteration(A, b, n, verbose, matvec):\n",
    "    h = np.zeros((n + 1, n))\n",
    "    Q = np.zeros((n + 1, A.shape[0]))\n",
    "\n",
    "    Q[0] = b / np.linalg.norm(b)\n",
    "    for k in range(1, n + 1):\n",
    "        v = matvec(A, Q[k - 1])\n",
    "        for j in range(k):\n",
    "            h[j, k - 1] = np.dot(Q[j], v)\n",
    "            v -= h[j, k - 1] * Q[j]\n",
    "        h[k, k - 1] = np.linalg.norm(v)\n",
    "        if verbose:\n",
    "            print(h[k, k - 1])\n",
    "        Q[k] = v / h[k, k - 1]\n",
    "    return h"
   ]
  },
  {
   "cell_type": "code",
   "execution_count": 3,
   "metadata": {},
   "outputs": [],
   "source": [
    "def matvec_simple(A, b):\n",
    "    n = b.size\n",
    "    z = np.zeros(n)\n",
    "    for i in range(n):\n",
    "        for j in range(n):\n",
    "            z[i] += A[i][j] * b[j]\n",
    "    return z\n",
    "\n",
    "@numba.jit(nopython=True)\n",
    "def matvec_numba(A, b):\n",
    "    n = b.size\n",
    "    z = np.zeros(n)\n",
    "    for i in range(n):\n",
    "        for j in range(n):\n",
    "            z[i] += A[i][j] * b[j]\n",
    "    return z\n",
    "\n",
    "@numba.jit(nopython=True, parallel=True)\n",
    "def matvec_numba_parallel(A, b):\n",
    "    n = b.size\n",
    "    z = np.zeros(n)\n",
    "    for i in prange(n):\n",
    "        for j in range(n):\n",
    "            z[i] += A[i][j] * b[j]\n",
    "    return z"
   ]
  },
  {
   "cell_type": "code",
   "execution_count": 4,
   "metadata": {},
   "outputs": [
    {
     "name": "stdout",
     "output_type": "stream",
     "text": [
      "[8. 8.]\n",
      "[8. 8.]\n"
     ]
    }
   ],
   "source": [
    "A_test = np.array([[2.0, 2.0], [2.0, 2.0]])\n",
    "b_test = np.array([2.0, 2.0])\n",
    "print(matvec_numba(A_test, b_test))\n",
    "print(matvec_numba_parallel(A_test, b_test))"
   ]
  },
  {
   "cell_type": "code",
   "execution_count": 5,
   "metadata": {},
   "outputs": [],
   "source": [
    "n = 5000\n",
    "k = 4"
   ]
  },
  {
   "cell_type": "code",
   "execution_count": 6,
   "metadata": {},
   "outputs": [],
   "source": [
    "np.random.seed(seed=1)\n",
    "A = np.random.rand(n, n)\n",
    "b = np.random.rand(n)"
   ]
  },
  {
   "attachments": {},
   "cell_type": "markdown",
   "metadata": {},
   "source": [
    "### Simple matvec"
   ]
  },
  {
   "cell_type": "code",
   "execution_count": 7,
   "metadata": {},
   "outputs": [
    {
     "name": "stdout",
     "output_type": "stream",
     "text": [
      "1083.1252052635512\n",
      "23.67790056752565\n",
      "20.47699083489922\n",
      "20.650615698615393\n",
      "CPU times: user 1min 9s, sys: 0 ns, total: 1min 9s\n",
      "Wall time: 1min 9s\n"
     ]
    }
   ],
   "source": [
    "%%time\n",
    "h = arnoldi_iteration(A, b, k, True, matvec_simple)"
   ]
  },
  {
   "attachments": {},
   "cell_type": "markdown",
   "metadata": {},
   "source": [
    "### Simple numba matvec"
   ]
  },
  {
   "cell_type": "code",
   "execution_count": 8,
   "metadata": {},
   "outputs": [
    {
     "name": "stdout",
     "output_type": "stream",
     "text": [
      "1083.1252052635512\n",
      "23.67790056752565\n",
      "20.47699083489922\n",
      "20.650615698615393\n",
      "CPU times: user 201 ms, sys: 194 µs, total: 201 ms\n",
      "Wall time: 199 ms\n"
     ]
    }
   ],
   "source": [
    "%%time\n",
    "h = arnoldi_iteration(A, b, k, True, matvec_numba)"
   ]
  },
  {
   "attachments": {},
   "cell_type": "markdown",
   "metadata": {},
   "source": [
    "### Paralleled numba matvec"
   ]
  },
  {
   "cell_type": "code",
   "execution_count": 9,
   "metadata": {},
   "outputs": [],
   "source": [
    "numba.set_num_threads(4)"
   ]
  },
  {
   "cell_type": "code",
   "execution_count": 10,
   "metadata": {},
   "outputs": [
    {
     "name": "stdout",
     "output_type": "stream",
     "text": [
      "1083.1252052635512\n",
      "23.67790056752565\n",
      "20.47699083489922\n",
      "20.650615698615393\n",
      "CPU times: user 308 ms, sys: 7.94 ms, total: 316 ms\n",
      "Wall time: 84.4 ms\n"
     ]
    }
   ],
   "source": [
    "%%time\n",
    "h = arnoldi_iteration(A, b, k, True, matvec_numba_parallel)"
   ]
  },
  {
   "attachments": {},
   "cell_type": "markdown",
   "metadata": {},
   "source": [
    "### Multiprocessing"
   ]
  },
  {
   "cell_type": "code",
   "execution_count": 11,
   "metadata": {},
   "outputs": [],
   "source": [
    "from multiprocessing import Process, Array, Barrier, Queue\n",
    "import ctypes"
   ]
  },
  {
   "cell_type": "code",
   "execution_count": 12,
   "metadata": {},
   "outputs": [],
   "source": [
    "def worker(A, x, res, n,  l, r, task_queue, feedback_queue, stop):\n",
    "    res = np.frombuffer(res, dtype=np.float64)\n",
    "    x = np.frombuffer(x, dtype=np.float64)\n",
    "    work = 1\n",
    "    end = 2\n",
    "    while True:\n",
    "        task = task_queue.get() \n",
    "        if (task == end):\n",
    "            break\n",
    "        res[l : r] = 0.0\n",
    "        for i in range(l, r):\n",
    "            for j in range(n):\n",
    "                res[i] += A[i][j] * x[j]\n",
    "        feedback_queue.put(1)\n",
    "        stop.wait() "
   ]
  },
  {
   "cell_type": "code",
   "execution_count": 13,
   "metadata": {},
   "outputs": [],
   "source": [
    "def arnoldi_iteration_multiprocessing(A, b, n, verbose, num_proc):\n",
    "    h = np.zeros((n + 1, n))\n",
    "    Q = np.zeros((n + 1, A.shape[0]))\n",
    "\n",
    "    block_size = A.shape[0] // num_proc\n",
    "    positions = [0 for i in range(num_proc + 1)]\n",
    "    for i in range(num_proc):\n",
    "        curr_amount = block_size\n",
    "        if i < A.shape[0] % num_proc:\n",
    "            curr_amount += 1\n",
    "        positions[i + 1] = positions[i] + curr_amount\n",
    "\n",
    "    work = 1\n",
    "    end = 2\n",
    "\n",
    "    task_queue = Queue()\n",
    "    feedback_queue = Queue()\n",
    "    stop = Barrier(num_proc)\n",
    "\n",
    "    # array for res\n",
    "    v_shared = Array(ctypes.c_double, A.shape[0], lock=False)\n",
    "    v = np.frombuffer(v_shared, dtype=np.float64)\n",
    "    \n",
    "    # array for rhs\n",
    "    Qj_shared = Array(ctypes.c_double, A.shape[0], lock=False)\n",
    "    Qj = np.frombuffer(Qj_shared, dtype=np.float64)\n",
    "\n",
    "    processes = []\n",
    "    for i in range(num_proc):\n",
    "        left_ind = positions[i]\n",
    "        right_ind = positions[i + 1]\n",
    "        processes.append(Process(target=worker, args=(A, Qj_shared, v_shared, A.shape[0], left_ind, right_ind, task_queue, feedback_queue, stop)))\n",
    "        processes[i].start()\n",
    "\n",
    "    def matvec(arr):\n",
    "        np.copyto(Qj, arr)\n",
    "        for i in range(num_proc):\n",
    "            task_queue.put(work)\n",
    "        for i in range(num_proc):\n",
    "            feedback_queue.get()\n",
    "\n",
    "    Q[0] = b / np.linalg.norm(b)\n",
    "\n",
    "    for k in range(1, n + 1):\n",
    "        matvec(Q[k - 1])\n",
    "        for j in range(k):\n",
    "            h[j, k - 1] = np.dot(Q[j], v)\n",
    "            v -= h[j, k - 1] * Q[j]\n",
    "        h[k, k - 1] = np.linalg.norm(v)\n",
    "        if verbose:\n",
    "            print(h[k, k - 1])\n",
    "        Q[k] = v / h[k, k - 1]\n",
    "    \n",
    "    def end_processes():\n",
    "        for i in range(num_proc):\n",
    "            task_queue.put(end)\n",
    "        for process in processes:\n",
    "            process.join()\n",
    "    \n",
    "    end_processes()\n",
    "\n",
    "    return h"
   ]
  },
  {
   "cell_type": "code",
   "execution_count": 14,
   "metadata": {},
   "outputs": [
    {
     "name": "stdout",
     "output_type": "stream",
     "text": [
      "1083.1252052635512\n",
      "23.67790056752565\n",
      "20.47699083489922\n",
      "20.650615698615393\n",
      "CPU times: user 23.7 ms, sys: 40 ms, total: 63.6 ms\n",
      "Wall time: 23.4 s\n"
     ]
    }
   ],
   "source": [
    "%%time\n",
    "h = arnoldi_iteration_multiprocessing(A, b, k, True, 4)"
   ]
  },
  {
   "cell_type": "code",
   "execution_count": null,
   "metadata": {},
   "outputs": [],
   "source": []
  }
 ],
 "metadata": {
  "kernelspec": {
   "display_name": "base",
   "language": "python",
   "name": "python3"
  },
  "language_info": {
   "codemirror_mode": {
    "name": "ipython",
    "version": 3
   },
   "file_extension": ".py",
   "mimetype": "text/x-python",
   "name": "python",
   "nbconvert_exporter": "python",
   "pygments_lexer": "ipython3",
   "version": "3.8.8"
  },
  "orig_nbformat": 4
 },
 "nbformat": 4,
 "nbformat_minor": 2
}
